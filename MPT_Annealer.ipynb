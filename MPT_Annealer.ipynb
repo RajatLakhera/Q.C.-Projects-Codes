{
 "cells": [
  {
   "cell_type": "code",
   "execution_count": 1,
   "id": "6d1379e4",
   "metadata": {},
   "outputs": [],
   "source": [
    "import numpy as np\n",
    "from qiskit_optimization import QuadraticProgram\n",
    "from qiskit import Aer,QuantumRegister, ClassicalRegister, QuantumCircuit, execute\n",
    "from qiskit.visualization import plot_histogram\n",
    "from qiskit.algorithms.minimum_eigensolvers import QAOA\n",
    "from qiskit.algorithms.optimizers import COBYLA\n",
    "from qiskit.primitives import Sampler\n",
    "from itertools import product"
   ]
  },
  {
   "cell_type": "code",
   "execution_count": 2,
   "id": "4a4177fe",
   "metadata": {
    "scrolled": true
   },
   "outputs": [],
   "source": [
    "from decimal import Decimal\n",
    "import dimod\n",
    "from dwave.system import EmbeddingComposite, DWaveSampler\n",
    "from dwave.system import LeapHybridSampler"
   ]
  },
  {
   "cell_type": "code",
   "execution_count": 3,
   "id": "93db4898",
   "metadata": {},
   "outputs": [],
   "source": [
    "def annealer_solver(qubo_matrix,backend=\"Classical\",shots =1000):\n",
    "    qubo_dict = {}\n",
    "\n",
    "    for i in range(qubo_matrix.shape[0]):\n",
    "        for j in range(qubo_matrix.shape[1]):\n",
    "            if i == j:\n",
    "                qubo_dict[(i,j)] = qubo_matrix[i,j]\n",
    "            elif i != j:\n",
    "                qubo_dict[(i,j)] = qubo_matrix[i,j]\n",
    "            else:\n",
    "                pass\n",
    "\n",
    "\n",
    "    bqm = dimod.BinaryQuadraticModel.from_qubo(qubo_dict)\n",
    "\n",
    "    if backend == \"Classical\":\n",
    "        print(\"\\nPlease wait, while the Classical engine is running....\")\n",
    "        sampleset = dimod.SimulatedAnnealingSampler().sample(bqm, num_reads=shots)\n",
    "\n",
    "    elif backend == \"Quantum\":\n",
    "        print(\"\\nPlease wait, while the Quantum engine is running....\")\n",
    "        sampleset = EmbeddingComposite(DWaveSampler()).sample(bqm, num_reads=shots)\n",
    "\n",
    "    elif backend == \"Hybrid\":\n",
    "        print(\"\\nPlease wait, while the Hybrid Classical-Quantum engine is running....\")\n",
    "        sampleset = LeapHybridSampler().sample(bqm)\n",
    "    \n",
    "    else:\n",
    "        print(\"\\n\\nPlease select a valid backend!\")\n",
    "        pass\n",
    "\n",
    "    best_sample = list(sampleset.first.sample.values())\n",
    "    return (best_sample)"
   ]
  },
  {
   "cell_type": "markdown",
   "id": "8ba4adfe",
   "metadata": {},
   "source": [
    "<h3> Stock List"
   ]
  },
  {
   "cell_type": "code",
   "execution_count": 4,
   "id": "02377c92",
   "metadata": {
    "scrolled": true
   },
   "outputs": [],
   "source": [
    "import numpy as np\n",
    "import pandas as pd\n",
    "import yfinance as yf\n",
    "import matplotlib.pyplot as plt"
   ]
  },
  {
   "cell_type": "code",
   "execution_count": 5,
   "id": "a4151695",
   "metadata": {},
   "outputs": [],
   "source": [
    "stocks=['TSLA','AMZN','AAPL','NFLX','GOOG']\n",
    "start_date = '2020-01-01'\n",
    "end_date = '2022-01-01'"
   ]
  },
  {
   "cell_type": "code",
   "execution_count": 6,
   "id": "58460bf8",
   "metadata": {},
   "outputs": [],
   "source": [
    "df=pd.DataFrame()\n",
    "\n",
    "for stock in stocks:\n",
    "    df[stock] = yf.Ticker(stock).history(start = start_date, end = end_date, interval = '1d')['Close']"
   ]
  },
  {
   "cell_type": "code",
   "execution_count": null,
   "id": "4152178a",
   "metadata": {},
   "outputs": [],
   "source": [
    "daily_returns = df.pct_change().dropna()"
   ]
  },
  {
   "cell_type": "markdown",
   "id": "1370187d",
   "metadata": {},
   "source": [
    "<h3> QUBO"
   ]
  },
  {
   "cell_type": "code",
   "execution_count": null,
   "id": "16f2c8a3",
   "metadata": {},
   "outputs": [],
   "source": [
    "mu = daily_returns.mean() * 252\n",
    "cov = daily_returns.cov() * 252"
   ]
  },
  {
   "cell_type": "markdown",
   "id": "0aa7bea7",
   "metadata": {},
   "source": [
    "According to MPT, "
   ]
  },
  {
   "cell_type": "markdown",
   "id": "07529e58",
   "metadata": {},
   "source": [
    "$$\\min_{\\vec{x}}\\,\\, -x^{T}\\mu + \\frac{\\gamma}{2} x^T \\Sigma x$$"
   ]
  },
  {
   "cell_type": "code",
   "execution_count": 13,
   "id": "a9a2c6bd",
   "metadata": {
    "scrolled": false
   },
   "outputs": [
    {
     "data": {
      "text/plain": [
       "array([[1.53239232, 0.        , 0.        , 0.        , 0.        ],\n",
       "       [0.        , 0.33335037, 0.        , 0.        , 0.        ],\n",
       "       [0.        , 0.        , 0.50818944, 0.        , 0.        ],\n",
       "       [0.        , 0.        , 0.        , 0.3797901 , 0.        ],\n",
       "       [0.        , 0.        , 0.        , 0.        , 0.42577824]])"
      ]
     },
     "execution_count": 13,
     "metadata": {},
     "output_type": "execute_result"
    }
   ],
   "source": [
    "np.diag(mu)"
   ]
  },
  {
   "cell_type": "markdown",
   "id": "9ac97129",
   "metadata": {},
   "source": [
    "Considering the $L^1$ norm of $x$ vector to be 3 that is,\n",
    "\n",
    "$$\\sum_{i=0}^4 |x_i|=3$$\n",
    "\n",
    "The associated constraint should be,\n",
    "\n",
    "$$C=\\min_x\\left(\\sum_{i=0}^4 x_i-3\\right)^2=\\min_x x^T(J_5-2\\cdot 3I_5)x$$\n",
    "\n",
    "where $J_5$ is a $5\\times 5$ matrix with all element 1. "
   ]
  },
  {
   "cell_type": "code",
   "execution_count": 14,
   "id": "b85faa4c",
   "metadata": {},
   "outputs": [
    {
     "data": {
      "text/plain": [
       "array([[-5.,  1.,  1.,  1.,  1.],\n",
       "       [ 1., -5.,  1.,  1.,  1.],\n",
       "       [ 1.,  1., -5.,  1.,  1.],\n",
       "       [ 1.,  1.,  1., -5.,  1.],\n",
       "       [ 1.,  1.,  1.,  1., -5.]])"
      ]
     },
     "execution_count": 14,
     "metadata": {},
     "output_type": "execute_result"
    }
   ],
   "source": [
    "Jn=np.ones((5,5))\n",
    "In=np.identity(5)\n",
    "C=Jn-2*3*In\n",
    "C"
   ]
  },
  {
   "cell_type": "code",
   "execution_count": 15,
   "id": "248646fe",
   "metadata": {},
   "outputs": [
    {
     "data": {
      "text/plain": [
       "array([[-6.25598324,  1.05072518,  1.06495328,  1.05482952,  1.04780118],\n",
       "       [ 1.05072518, -5.28170699,  1.04035328,  1.03901862,  1.03338399],\n",
       "       [ 1.06495328,  1.04035328, -5.437992  ,  1.03833462,  1.04166983],\n",
       "       [ 1.05482952,  1.03901862,  1.03833462, -5.30067645,  1.03198419],\n",
       "       [ 1.04780118,  1.03338399,  1.04166983,  1.03198419, -5.37505837]])"
      ]
     },
     "execution_count": 15,
     "metadata": {},
     "output_type": "execute_result"
    }
   ],
   "source": [
    "gamma = 1  #risk aversion parameter\n",
    "qubo = -1*np.diag(mu) + (gamma/2)*np.array(cov) + C\n",
    "qubo"
   ]
  },
  {
   "cell_type": "markdown",
   "id": "dcdf607b",
   "metadata": {},
   "source": [
    "<h3> Solution"
   ]
  },
  {
   "cell_type": "code",
   "execution_count": 19,
   "id": "de3c3846",
   "metadata": {},
   "outputs": [
    {
     "name": "stdout",
     "output_type": "stream",
     "text": [
      "\n",
      "Please wait, while the Quantum engine is running....\n"
     ]
    }
   ],
   "source": [
    "solution_dwave_q = annealer_solver(qubo, backend='Quantum')"
   ]
  },
  {
   "cell_type": "code",
   "execution_count": 20,
   "id": "a80022bd",
   "metadata": {},
   "outputs": [
    {
     "data": {
      "text/plain": [
       "[1, 0, 1, 0, 1]"
      ]
     },
     "execution_count": 20,
     "metadata": {},
     "output_type": "execute_result"
    }
   ],
   "source": [
    "solution_dwave_q "
   ]
  }
 ],
 "metadata": {
  "kernelspec": {
   "display_name": "Python 3 (ipykernel)",
   "language": "python",
   "name": "python3"
  },
  "language_info": {
   "codemirror_mode": {
    "name": "ipython",
    "version": 3
   },
   "file_extension": ".py",
   "mimetype": "text/x-python",
   "name": "python",
   "nbconvert_exporter": "python",
   "pygments_lexer": "ipython3",
   "version": "3.9.12"
  }
 },
 "nbformat": 4,
 "nbformat_minor": 5
}
