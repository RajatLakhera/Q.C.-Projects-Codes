{
 "cells": [
  {
   "cell_type": "code",
   "execution_count": 1,
   "id": "59a339b1-7ae0-4120-a97c-62cce3d8ea09",
   "metadata": {},
   "outputs": [
    {
     "name": "stderr",
     "output_type": "stream",
     "text": [
      "<frozen importlib._bootstrap>:219: RuntimeWarning: scipy._lib.messagestream.MessageStream size changed, may indicate binary incompatibility. Expected 56 from C header, got 64 from PyObject\n"
     ]
    }
   ],
   "source": [
    "import numpy as np\n",
    "\n",
    "# Importing standard Qiskit libraries\n",
    "from qiskit import QuantumCircuit, transpile, Aer, IBMQ\n",
    "from qiskit.tools.jupyter import *\n",
    "from qiskit.visualization import *\n",
    "from ibm_quantum_widgets import *\n",
    "from qiskit.providers.aer import QasmSimulator\n",
    "\n",
    "# Loading your IBM Quantum account(s)\n",
    "provider = IBMQ.load_account()"
   ]
  },
  {
   "cell_type": "code",
   "execution_count": 2,
   "id": "110bcd14-3ced-4f69-85be-6989b76cad3e",
   "metadata": {},
   "outputs": [],
   "source": [
    "'''Importing necessary files from Qiskit'''\n",
    "\n",
    "from qiskit import QuantumCircuit, QuantumRegister, ClassicalRegister, transpile, Aer, execute, IBMQ\n",
    "from math import pi\n",
    "#----------------------------------------------------------------------------------------------------------------------\n",
    "\n",
    "'''Main function that will carry out all the necessary calculations. This contains some internal functions as well.''' \n",
    "#Although the same variables could have been used throughout this function but for better readability, different variables\n",
    "#have been used wherever necessary\n",
    "def multiplication(multiplicand_string, multiplier_string ):\n",
    "    #This message is placed to let the user know that the program is running (useful when calculations may take long time)\n",
    "    print(\"Processing....\")\n",
    "    print(\"\")\n",
    "    \n",
    "    #Conversion of basis of numbers from decimal to binary\n",
    "    multiplicand_string = bin(int(multiplicand_string))\n",
    "    multiplier_string = bin(int(multiplier_string))\n",
    "\n",
    "    #The in-built binary conversion function used above has string \"0b\" in the beginning to indicate \n",
    "    #binary basis. This would however interfere with program's working so these characters are deleted\n",
    "    multiplicand_string = multiplicand_string.replace('0b','')\n",
    "    multiplier_string = multiplier_string.replace('0b', '')\n",
    "\n",
    "    #finding lengths of the two numbers to determine limits of loops\n",
    "    n1 = len(multiplicand_string)\n",
    "    n2 = len(multiplier_string)\n",
    "    n = n1 + n2\n",
    "\n",
    "    #To reduce the number of iterations and optimize the circuit better, longer string (higher number) is taken as multiplicand.\n",
    "    #The shorter string(smaller number) is assigned as multiplier to determine the number of iterations\n",
    "    if (n2 > n1):\n",
    "        multiplier_string, multiplicand_string = multiplicand_string, multiplier_string\n",
    "        n2, n1 = n1, n2\n",
    "    \n",
    "    #----------------------------------------------------------------------------------------------------------------------    \n",
    "    '''This function operates on a quantum register and converts it from Computational to Fourier Basis for further processing.'''\n",
    "\n",
    "    def QFT(circuit, quantum_register, n):\n",
    "        qc.h(quantum_register[n])\n",
    "        for j in range (0,n):\n",
    "            circuit.cp(pi/float(2**(j+1)), quantum_register[n - (j+1)], quantum_register[n])\n",
    "    #----------------------------------------------------------------------------------------------------------------------\n",
    "\n",
    "    '''This function performs Inverse Fourier Transform on the quantum register and converts it back to computational basis'''\n",
    "\n",
    "    def Inverse_QFT(circuit,quantum_register, n):\n",
    "        for j in range(0, n):\n",
    "            circuit.cp(-1 * pi / float(2**(n - j)), quantum_register[j], quantum_register[n])\n",
    "        circuit.h(quantum_register[n])\n",
    "    #---------------------------------------------------------------------------------------------------------------------\n",
    "\n",
    "    '''This function applies Fourier Transform on the combined state of register_x and register_y. Here register_y acts as \n",
    "    controller for phase rotations on register_x'''\n",
    "\n",
    "    def QFT_adder(circuit, register_x, register_y, n, factor):\n",
    "        l = len(register_y)\n",
    "        for j in range (0, n+1):\n",
    "            #This condition is for enabling program to work with registers of different sizes\n",
    "            if (n - j ) > l - 1:\n",
    "                pass\n",
    "            else:\n",
    "                circuit.cp(factor*pi /  float(2**(j)),register_y[n - j], register_x[n])\n",
    "    #---------------------------------------------------------------------------------------------------------------------\n",
    "\n",
    "    '''This function is to call all the above functions and add the two registers (x and y) bit by bit. Here the variable\n",
    "    'factor' is used to tell the program whether to add or to subrtract. It performs addition for factor = 1 and subtraction \n",
    "    for factor = -1'''\n",
    "\n",
    "    def summation(register_x, register_y, qc, factor):\n",
    "        n = len(register_x) - 1\n",
    "    \n",
    "        for i in range(0, n+1):\n",
    "            QFT(qc, register_x, n-i)\n",
    "    \n",
    "        for i in range(0, n+1):\n",
    "            QFT_adder(qc, register_x, register_y, n-i, factor)\n",
    "    \n",
    "        for i in range(0, n+1):\n",
    "            Inverse_QFT(qc, register_x, i)\n",
    "    #--------------------------------------------------------------------------------------------------------------------\n",
    "    \n",
    "    \n",
    "    #This quantum register will store the values of repeated summation of multiplicand until multiplier is zero\n",
    "    adder = QuantumRegister(n)\n",
    "    #This quantum register will decrease the value of multiplier by 1 after every iteration\n",
    "    decrementer = QuantumRegister(1)\n",
    "\n",
    "    #Quantum registers to store multiplicand and multiplier\n",
    "    multiplicand = QuantumRegister(n1)\n",
    "    multiplier = QuantumRegister(n2)\n",
    "\n",
    "    c_reg = ClassicalRegister(n)\n",
    "\n",
    "    qc = QuantumCircuit(adder, multiplier, multiplicand, decrementer, c_reg, name = \"circuit\")\n",
    "\n",
    "    #Setting the decrementer to state |1>\n",
    "    qc.x(decrementer)\n",
    "\n",
    "    #Storing numbers in the multiplicand and multiplier registers according to user input\n",
    "    for i in range(n1):\n",
    "        if (multiplicand_string[i] == '1'):\n",
    "            #The index here is written so as take care of the different ordering in classical\n",
    "            #and quantum programming (particularly Qiskit)\n",
    "            qc.x(multiplicand[n1-i-1])\n",
    "    \n",
    "    for i in range(n2):\n",
    "        if (multiplier_string[i] == '1'):\n",
    "            qc.x(multiplier[n2-i-1])\n",
    "\n",
    "    #This is initially set to 1. Once the multiplier string goes to zero, this will switch to zero as well and stop the loop\n",
    "    #The need for this arises because of absence of a controlled gate that tells the program to stop doing iterations\n",
    "    multiplier_stopper = '1'\n",
    "\n",
    "    #This loop adds the multiplicand multiple times and decreases the multiplier with each iteration till the multiplier is zero\n",
    "    #Results of the calculations are stored in the \"counts\" variable duting the processing\n",
    "    while(int(multiplier_stopper) != 0):\n",
    "        #This function call is to add multiplicand to adder repeatedly using QFT and the sum is stored in adder\n",
    "        summation(adder, multiplicand, qc, 1)\n",
    "    \n",
    "        #This function call is to decrease the value of multiplier by 1\n",
    "        summation(multiplier, decrementer, qc, -1)\n",
    "    \n",
    "        #This patch of code gets result of the operations done above (via measurement) and makes the multiplier string zero when\n",
    "        #its value goes to 0 after consecutive decrement by 1. At this point the loop terminates and addition is stopped. \n",
    "        \n",
    "        time = 0.0\n",
    "        \n",
    "        for i in range(len(multiplier)):\n",
    "            qc.measure(multiplier[i], c_reg[i])\n",
    "        job = execute(qc, backend = Aer.get_backend('qasm_simulator'), shots = 2)\n",
    "        counts = job.result().get_counts(qc)\n",
    "        \n",
    "        #Calculating execution time of this loop\n",
    "        time1 = job.result().time_taken\n",
    "        time = time + time1\n",
    "        \n",
    "        multiplier_stopper = list(counts.keys())[0]\n",
    "        \n",
    "    #Making final measurement and getting the results\n",
    "    qc.measure(adder, c_reg)\n",
    "\n",
    "    job = execute(qc, backend = Aer.get_backend('qasm_simulator'), shots = 2)\n",
    "    counts = job.result().get_counts(qc)\n",
    "    #------------------------------------------------------------------------------------------------------------------\n",
    "    '''Bonus Tasks'''\n",
    "    \n",
    "    #Execution time\n",
    "    time2 = job.result()\n",
    "    print(\"Time taken for processing is:\", time + time2.time_taken, \"seconds\")\n",
    "    \n",
    "    #Circuit depth\n",
    "    print(\"Circuit depth is:\",qc.depth())\n",
    "    \n",
    "    #Circuit width/number of qubits\n",
    "    print(\"Number of qubits used:\",qc.width())\n",
    "    \n",
    "    #Number of gates\n",
    "    print(\"Gates used:\",dict(qc.count_ops()))\n",
    "    #------------------------------------------------------------------------------------------------------------------\n",
    "\n",
    "    print(\"\")\n",
    "    #The counts variable is in dictionary form which doesn't suit purpose of this program so usual output form is used\n",
    "    product = int(next(iter(counts)),2)       \n",
    "    \n",
    "    return(product)"
   ]
  },
  {
   "cell_type": "code",
   "execution_count": 3,
   "id": "375011b4-213d-49c0-b566-ded8a81b8281",
   "metadata": {},
   "outputs": [
    {
     "name": "stdout",
     "output_type": "stream",
     "text": [
      "Processing....\n",
      "\n",
      "Time taken for processing is: 0.012897491455078125 seconds\n",
      "Circuit depth is: 101\n",
      "Number of qubits used: 19\n",
      "Gates used: {'cp': 216, 'h': 72, 'measure': 18, 'x': 4}\n",
      "\n",
      "PRODUCT OF THE TWO NUMBERS IS: 24\n"
     ]
    }
   ],
   "source": [
    "result = multiplication(6,4)\n",
    "print(\"PRODUCT OF THE TWO NUMBERS IS:\", result)\n"
   ]
  },
  {
   "cell_type": "code",
   "execution_count": null,
   "id": "f4be6835-8ee8-4aee-bc08-48093d88bd22",
   "metadata": {},
   "outputs": [],
   "source": []
  }
 ],
 "metadata": {
  "kernelspec": {
   "display_name": "Python 3 (ipykernel)",
   "language": "python",
   "name": "python3"
  },
  "language_info": {
   "codemirror_mode": {
    "name": "ipython",
    "version": 3
   },
   "file_extension": ".py",
   "mimetype": "text/x-python",
   "name": "python",
   "nbconvert_exporter": "python",
   "pygments_lexer": "ipython3",
   "version": "3.8.13"
  },
  "widgets": {
   "application/vnd.jupyter.widget-state+json": {
    "state": {
     "2d02438742b4436fa7d60acf544832d7": {
      "model_module": "@jupyter-widgets/base",
      "model_module_version": "1.2.0",
      "model_name": "LayoutModel",
      "state": {
       "width": "145px"
      }
     },
     "30cd30a6d6af486fa7a485a2b68d9046": {
      "model_module": "@jupyter-widgets/base",
      "model_module_version": "1.2.0",
      "model_name": "LayoutModel",
      "state": {
       "width": "95px"
      }
     },
     "3cf058c589e648018d880cb6968a3df0": {
      "model_module": "@jupyter-widgets/base",
      "model_module_version": "1.2.0",
      "model_name": "LayoutModel",
      "state": {
       "margin": "0px 0px 10px 0px"
      }
     },
     "427ee65247734e9f8275032d694c8e58": {
      "model_module": "@jupyter-widgets/controls",
      "model_module_version": "1.5.0",
      "model_name": "ButtonModel",
      "state": {
       "button_style": "primary",
       "description": "Clear",
       "layout": "IPY_MODEL_c0aab4bfe01741c0865cd5be895c589c",
       "style": "IPY_MODEL_f468c6a77f8740a49ad5326425244d2c"
      }
     },
     "4c9fdda970ae4a38a09d2d538f183f39": {
      "model_module": "@jupyter-widgets/base",
      "model_module_version": "1.2.0",
      "model_name": "LayoutModel",
      "state": {
       "margin": "0px 0px 0px 37px",
       "width": "600px"
      }
     },
     "505178633e29452a9caedcf11746dc8b": {
      "model_module": "@jupyter-widgets/controls",
      "model_module_version": "1.5.0",
      "model_name": "DescriptionStyleModel",
      "state": {
       "description_width": ""
      }
     },
     "55ddb1328e094671944c65c744cb0fd0": {
      "model_module": "@jupyter-widgets/controls",
      "model_module_version": "1.5.0",
      "model_name": "DescriptionStyleModel",
      "state": {
       "description_width": ""
      }
     },
     "58d196a4c4f44e81afacc1f2776a2c1b": {
      "model_module": "@jupyter-widgets/controls",
      "model_module_version": "1.5.0",
      "model_name": "HTMLModel",
      "state": {
       "layout": "IPY_MODEL_8da267739ef848ca9cbf7a9753e1b508",
       "style": "IPY_MODEL_d83f9a03df2e47fa90730186dc07dc3c",
       "value": "<h5>Job ID</h5>"
      }
     },
     "5e001e80dbfd4cc4b03e62f7e8ff0449": {
      "model_module": "@jupyter-widgets/controls",
      "model_module_version": "1.5.0",
      "model_name": "DescriptionStyleModel",
      "state": {
       "description_width": ""
      }
     },
     "676ae76fcf5043679e01f7771b7acde7": {
      "model_module": "@jupyter-widgets/base",
      "model_module_version": "1.2.0",
      "model_name": "LayoutModel",
      "state": {}
     },
     "6ed179d81de74c03a2309612aad9740d": {
      "model_module": "@jupyter-widgets/controls",
      "model_module_version": "1.5.0",
      "model_name": "HTMLModel",
      "state": {
       "layout": "IPY_MODEL_eff018a63702431187c01e8c3d384b3f",
       "style": "IPY_MODEL_55ddb1328e094671944c65c744cb0fd0",
       "value": "<h5>Queue</h5>"
      }
     },
     "7b5406c4e9934d91a76ce3af38c35323": {
      "model_module": "@jupyter-widgets/controls",
      "model_module_version": "1.5.0",
      "model_name": "HTMLModel",
      "state": {
       "layout": "IPY_MODEL_676ae76fcf5043679e01f7771b7acde7",
       "style": "IPY_MODEL_8af406f330d64e5a89e1d2880a97a707",
       "value": "<h5>Message</h5>"
      }
     },
     "8af406f330d64e5a89e1d2880a97a707": {
      "model_module": "@jupyter-widgets/controls",
      "model_module_version": "1.5.0",
      "model_name": "DescriptionStyleModel",
      "state": {
       "description_width": ""
      }
     },
     "8da267739ef848ca9cbf7a9753e1b508": {
      "model_module": "@jupyter-widgets/base",
      "model_module_version": "1.2.0",
      "model_name": "LayoutModel",
      "state": {
       "width": "190px"
      }
     },
     "8fceb9c448f94786afe4a288b2d09fb3": {
      "model_module": "@jupyter-widgets/base",
      "model_module_version": "1.2.0",
      "model_name": "LayoutModel",
      "state": {
       "grid_template_areas": "\n                                       \". . . . right \"\n                                        ",
       "grid_template_columns": "20% 20% 20% 20% 20%",
       "width": "100%"
      }
     },
     "9497825bb9564c0ebfd1e6892176bfe5": {
      "model_module": "@jupyter-widgets/controls",
      "model_module_version": "1.5.0",
      "model_name": "HTMLModel",
      "state": {
       "layout": "IPY_MODEL_30cd30a6d6af486fa7a485a2b68d9046",
       "style": "IPY_MODEL_505178633e29452a9caedcf11746dc8b",
       "value": "<h5>Status</h5>"
      }
     },
     "a032d5f785cd4f51a5f8c39b480fe842": {
      "model_module": "@jupyter-widgets/controls",
      "model_module_version": "1.5.0",
      "model_name": "HBoxModel",
      "state": {
       "children": [
        "IPY_MODEL_58d196a4c4f44e81afacc1f2776a2c1b",
        "IPY_MODEL_e5c9bcc058174280911f13ddd10cd2d3",
        "IPY_MODEL_9497825bb9564c0ebfd1e6892176bfe5",
        "IPY_MODEL_6ed179d81de74c03a2309612aad9740d",
        "IPY_MODEL_7b5406c4e9934d91a76ce3af38c35323"
       ],
       "layout": "IPY_MODEL_4c9fdda970ae4a38a09d2d538f183f39"
      }
     },
     "a2659770298140e6bb89910aea04a064": {
      "model_module": "@jupyter-widgets/controls",
      "model_module_version": "1.5.0",
      "model_name": "DescriptionStyleModel",
      "state": {
       "description_width": ""
      }
     },
     "c0aab4bfe01741c0865cd5be895c589c": {
      "model_module": "@jupyter-widgets/base",
      "model_module_version": "1.2.0",
      "model_name": "LayoutModel",
      "state": {
       "grid_area": "right",
       "padding": "0px 0px 0px 0px",
       "width": "70px"
      }
     },
     "d83f9a03df2e47fa90730186dc07dc3c": {
      "model_module": "@jupyter-widgets/controls",
      "model_module_version": "1.5.0",
      "model_name": "DescriptionStyleModel",
      "state": {
       "description_width": ""
      }
     },
     "e5c9bcc058174280911f13ddd10cd2d3": {
      "model_module": "@jupyter-widgets/controls",
      "model_module_version": "1.5.0",
      "model_name": "HTMLModel",
      "state": {
       "layout": "IPY_MODEL_2d02438742b4436fa7d60acf544832d7",
       "style": "IPY_MODEL_a2659770298140e6bb89910aea04a064",
       "value": "<h5>Backend</h5>"
      }
     },
     "eff018a63702431187c01e8c3d384b3f": {
      "model_module": "@jupyter-widgets/base",
      "model_module_version": "1.2.0",
      "model_name": "LayoutModel",
      "state": {
       "width": "70px"
      }
     },
     "f468c6a77f8740a49ad5326425244d2c": {
      "model_module": "@jupyter-widgets/controls",
      "model_module_version": "1.5.0",
      "model_name": "ButtonStyleModel",
      "state": {}
     },
     "f53e91be7c1941f893565c5ad727c878": {
      "model_module": "@jupyter-widgets/controls",
      "model_module_version": "1.5.0",
      "model_name": "GridBoxModel",
      "state": {
       "children": [
        "IPY_MODEL_427ee65247734e9f8275032d694c8e58"
       ],
       "layout": "IPY_MODEL_8fceb9c448f94786afe4a288b2d09fb3"
      }
     },
     "f82d61486e2b4fb18b87034a7f2c9111": {
      "model_module": "@jupyter-widgets/controls",
      "model_module_version": "1.5.0",
      "model_name": "HTMLModel",
      "state": {
       "layout": "IPY_MODEL_3cf058c589e648018d880cb6968a3df0",
       "style": "IPY_MODEL_5e001e80dbfd4cc4b03e62f7e8ff0449",
       "value": "<p style='font-family: IBM Plex Sans, Arial, Helvetica, sans-serif; font-size: 20px; font-weight: medium;'>Circuit Properties</p>"
      }
     }
    },
    "version_major": 2,
    "version_minor": 0
   }
  }
 },
 "nbformat": 4,
 "nbformat_minor": 5
}
